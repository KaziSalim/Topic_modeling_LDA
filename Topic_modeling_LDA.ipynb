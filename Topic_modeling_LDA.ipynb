{
 "cells": [
  {
   "cell_type": "markdown",
   "id": "6c809db3",
   "metadata": {},
   "source": [
    "# Topic Modeling- Latent Dirichlet Allocation(LDA)"
   ]
  },
  {
   "cell_type": "code",
   "execution_count": 1,
   "id": "e5fd3978",
   "metadata": {},
   "outputs": [],
   "source": [
    "from gensim import corpora, models\n",
    "from pprint import pprint"
   ]
  },
  {
   "cell_type": "code",
   "execution_count": 2,
   "id": "b239fdfb",
   "metadata": {},
   "outputs": [],
   "source": [
    "documents = [\n",
    "    \"Artificial intelligence and machine learning are revolutionizing the tech industry.\",\n",
    "    \"The Internet of Things connects devices and enables smart homes.\",\n",
    "    \"Cybersecurity is crucial in today's digital landscape to protect against online threats.\"\n",
    "]"
   ]
  },
  {
   "cell_type": "code",
   "execution_count": 3,
   "id": "2da297ba",
   "metadata": {},
   "outputs": [],
   "source": [
    "# Tokenize and preprocess the documents\n",
    "tokenized_documents = [doc.lower().split() for doc in documents]"
   ]
  },
  {
   "cell_type": "code",
   "execution_count": 4,
   "id": "d5830434",
   "metadata": {},
   "outputs": [],
   "source": [
    "# Create a dictionary and corpus\n",
    "dictionary = corpora.Dictionary(tokenized_documents)\n",
    "corpus = [dictionary.doc2bow(doc) for doc in tokenized_documents]"
   ]
  },
  {
   "cell_type": "code",
   "execution_count": 5,
   "id": "04de5922",
   "metadata": {},
   "outputs": [],
   "source": [
    "# Build the LDA model\n",
    "lda_model = models.LdaModel(corpus, num_topics=2, id2word=dictionary, passes=10)"
   ]
  },
  {
   "cell_type": "code",
   "execution_count": 6,
   "id": "5b598c36",
   "metadata": {},
   "outputs": [
    {
     "name": "stdout",
     "output_type": "stream",
     "text": [
      "[(0,\n",
      "  '0.071*\"and\" + 0.071*\"the\" + 0.043*\"machine\" + 0.043*\"artificial\" + '\n",
      "  '0.043*\"tech\"'),\n",
      " (1,\n",
      "  '0.055*\"protect\" + 0.055*\"crucial\" + 0.055*\"landscape\" + '\n",
      "  '0.055*\"cybersecurity\" + 0.055*\"is\"')]\n"
     ]
    }
   ],
   "source": [
    "# Print the topics and associated words\n",
    "pprint(lda_model.print_topics(num_words=5))"
   ]
  },
  {
   "cell_type": "code",
   "execution_count": 7,
   "id": "ff046279",
   "metadata": {},
   "outputs": [
    {
     "name": "stdout",
     "output_type": "stream",
     "text": [
      "Document 1: [(0, 0.9521971), (1, 0.047802895)]\n",
      "Document 2: [(0, 0.9521761), (1, 0.047823932)]\n",
      "Document 3: [(0, 0.039714683), (1, 0.9602853)]\n"
     ]
    }
   ],
   "source": [
    "# Get the topic distribution for each document\n",
    "for i, doc in enumerate(corpus):\n",
    "    print(f\"Document {i + 1}: {lda_model[doc]}\")"
   ]
  }
 ],
 "metadata": {
  "kernelspec": {
   "display_name": "Python 3 (ipykernel)",
   "language": "python",
   "name": "python3"
  },
  "language_info": {
   "codemirror_mode": {
    "name": "ipython",
    "version": 3
   },
   "file_extension": ".py",
   "mimetype": "text/x-python",
   "name": "python",
   "nbconvert_exporter": "python",
   "pygments_lexer": "ipython3",
   "version": "3.11.4"
  }
 },
 "nbformat": 4,
 "nbformat_minor": 5
}
